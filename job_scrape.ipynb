{
 "cells": [
  {
   "cell_type": "code",
   "execution_count": 25,
   "metadata": {},
   "outputs": [
    {
     "name": "stdout",
     "output_type": "stream",
     "text": [
      "The autoreload extension is already loaded. To reload it, use:\n",
      "  %reload_ext autoreload\n"
     ]
    }
   ],
   "source": [
    "%load_ext autoreload\n",
    "%autoreload 2\n",
    "import json\n",
    "import pandas as pd\n",
    "from bs4 import BeautifulSoup\n",
    "import src.job_scrape_funcs as scrape\n",
    "import src.analysis as ana\n",
    "from datetime import datetime\n",
    "from pathlib import Path"
   ]
  },
  {
   "cell_type": "code",
   "execution_count": 17,
   "metadata": {},
   "outputs": [],
   "source": [
    "def job_pipeline(job_title, location, post_time, pages, save_path, resume_path, word_scores):\n",
    "    #TODO: try except statements\n",
    "    # Scrape jobs:\n",
    "    job_data = scrape.scrape_jobs(pages=pages, job_title=job_title, location=location, post_time=post_time)\n",
    "    date = datetime.today().strftime(\"%Y-%m-%d\")\n",
    "\n",
    "    # Save:\n",
    "    index = 1\n",
    "    full_path = save_path+str(job_title).replace(\" \",\"-\")+\"_\"+str(date)+\"_\"+str(index)+\".json\"\n",
    "    while (Path.cwd()/full_path).exists():\n",
    "        index += 1\n",
    "        full_path = save_path+str(job_title).replace(\" \",\"-\")+\"_\"+str(date)+\"_\"+str(index)+\".json\"\n",
    "\n",
    "    print(\"Saving to \", full_path)\n",
    "    with open(full_path, 'w', encoding='utf-8') as f:\n",
    "        json.dump(job_data, f, ensure_ascii=False, indent=4)\n",
    "\n",
    "    # Find matches:\n",
    "    with open(full_path, 'r', encoding=\"utf-8\") as f:\n",
    "        data = json.load(f)\n",
    "\n",
    "    raw_df = pd.DataFrame(data[\"jobs\"])\n",
    "    df = ana.find_job_match(raw_df, resume_path)\n",
    "    print(\"Generating report:\\n\\n\")\n",
    "    ana.generate_html_report(df)\n",
    "    return df"
   ]
  },
  {
   "cell_type": "code",
   "execution_count": 18,
   "metadata": {},
   "outputs": [
    {
     "name": "stderr",
     "output_type": "stream",
     "text": [
      "<>:1: SyntaxWarning: invalid escape sequence '\\j'\n",
      "<>:1: SyntaxWarning: invalid escape sequence '\\j'\n",
      "C:\\Users\\tempu\\AppData\\Local\\Temp\\ipykernel_6384\\76143991.py:1: SyntaxWarning: invalid escape sequence '\\j'\n",
      "  with open(\"data\\job_queries\\Data-Scientist_2025-04-08_3.json\", 'r', encoding=\"utf-8\") as f:\n"
     ]
    }
   ],
   "source": [
    "with open(\"data\\job_queries\\Data-Scientist_2025-04-08_3.json\", 'r', encoding=\"utf-8\") as f:\n",
    "    job_data = pd.DataFrame(json.load(f)[\"jobs\"])"
   ]
  },
  {
   "cell_type": "code",
   "execution_count": null,
   "metadata": {},
   "outputs": [],
   "source": [
    "# Scrape job listings:\n",
    "jobs = scrape.scrape_jobs(pages=2, job_title=\"Data Scientist\", location=\"Chicago\", post_time=5)"
   ]
  },
  {
   "cell_type": "code",
   "execution_count": 8,
   "metadata": {},
   "outputs": [],
   "source": [
    "# Save to JSON:\n",
    "with open(\"data/job_queries/job_data_test.json\", 'w', encoding='utf-8') as f:\n",
    "    json.dump(jobs, f, ensure_ascii=False, indent=4)"
   ]
  },
  {
   "cell_type": "code",
   "execution_count": 19,
   "metadata": {},
   "outputs": [],
   "source": [
    "# Load JSON:\n",
    "with open(\"data/job_queries/Data-Scientist_2025-04-11_1.json\", 'r', encoding='utf-8') as f:\n",
    "    jobs = json.load(f)\n",
    "raw_df = pd.DataFrame(jobs[\"jobs\"])"
   ]
  },
  {
   "cell_type": "code",
   "execution_count": 21,
   "metadata": {},
   "outputs": [],
   "source": [
    "word_scores = {\n",
    "    \"phd\": 1.2,\n",
    "    \"python\": 1.1,\n",
    "    \"senior\": 0.9,\n",
    "    \"lead\": 0.5,\n",
    "}"
   ]
  },
  {
   "cell_type": "code",
   "execution_count": 26,
   "metadata": {},
   "outputs": [],
   "source": [
    "# Find job matches:\n",
    "df = ana.find_job_match(raw_df, \"data/resume.pdf\", word_scores=word_scores)"
   ]
  },
  {
   "cell_type": "code",
   "execution_count": null,
   "metadata": {},
   "outputs": [],
   "source": [
    "df = job_pipeline(job_title=\"Data Scientist\", \n",
    "                  location=\"Chicago\", \n",
    "                  post_time=0.5, \n",
    "                  pages=1,\n",
    "                  save_path=\"data/job_queries/\", \n",
    "                  resume_path=\"data/resume.pdf\",\n",
    "                  word_scores=word_scores)"
   ]
  },
  {
   "cell_type": "code",
   "execution_count": 48,
   "metadata": {},
   "outputs": [],
   "source": [
    "# generate job match report\n",
    "html = ana.generate_html_report(df)"
   ]
  },
  {
   "cell_type": "code",
   "execution_count": 49,
   "metadata": {},
   "outputs": [],
   "source": [
    "soup = BeautifulSoup(html)"
   ]
  },
  {
   "cell_type": "code",
   "execution_count": 50,
   "metadata": {},
   "outputs": [],
   "source": [
    "with open(\"output1.html\", \"w\") as file:\n",
    "    file.write(str(soup))"
   ]
  }
 ],
 "metadata": {
  "kernelspec": {
   "display_name": "env",
   "language": "python",
   "name": "python3"
  },
  "language_info": {
   "codemirror_mode": {
    "name": "ipython",
    "version": 3
   },
   "file_extension": ".py",
   "mimetype": "text/x-python",
   "name": "python",
   "nbconvert_exporter": "python",
   "pygments_lexer": "ipython3",
   "version": "3.12.3"
  }
 },
 "nbformat": 4,
 "nbformat_minor": 2
}
