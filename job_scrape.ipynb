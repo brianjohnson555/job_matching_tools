{
 "cells": [
  {
   "cell_type": "code",
   "execution_count": 49,
   "metadata": {},
   "outputs": [
    {
     "name": "stdout",
     "output_type": "stream",
     "text": [
      "The autoreload extension is already loaded. To reload it, use:\n",
      "  %reload_ext autoreload\n"
     ]
    }
   ],
   "source": [
    "%load_ext autoreload\n",
    "%autoreload 2\n",
    "import json\n",
    "import pandas as pd\n",
    "import src.job_scrape_funcs as scrape\n",
    "import src.analysis as ana"
   ]
  },
  {
   "cell_type": "code",
   "execution_count": 50,
   "metadata": {},
   "outputs": [],
   "source": [
    "def job_pipeline(job_title, location, post_time, pages, save_path, resume_path):\n",
    "    #TODO: try except statements\n",
    "    # Scrape jobs:\n",
    "    job_data = scrape.scrape_jobs(pages=pages, job_title=job_title, location=location, post_time=post_time)\n",
    "\n",
    "    # Save:\n",
    "    with open(save_path+\".json\", 'w', encoding='utf-8') as f:\n",
    "        json.dump(job_data, f, ensure_ascii=False, indent=4)\n",
    "\n",
    "    # Find matches:\n",
    "    with open(save_path+\".json\", 'r', encoding=\"utf-8\") as f:\n",
    "        data = json.load(f)\n",
    "\n",
    "    raw_df = pd.DataFrame(data[\"jobs\"])\n",
    "    df = ana.find_job_match(raw_df, resume_path)\n",
    "    return df"
   ]
  },
  {
   "cell_type": "code",
   "execution_count": null,
   "metadata": {},
   "outputs": [],
   "source": [
    "# Scrape job listings:\n",
    "jobs = scrape.scrape_jobs(pages=2, job_title=\"Machine learning engineer\", location=\"Chicago\", post_time=30)"
   ]
  },
  {
   "cell_type": "code",
   "execution_count": null,
   "metadata": {},
   "outputs": [],
   "source": [
    "# Save to JSON:\n",
    "with open(\"data/job_data_4.json\", 'w', encoding='utf-8') as f:\n",
    "    json.dump(jobs, f, ensure_ascii=False, indent=4)"
   ]
  },
  {
   "cell_type": "code",
   "execution_count": null,
   "metadata": {},
   "outputs": [],
   "source": [
    "# Find job matches:\n",
    "df = ana.find_job_match(\"data/job_data_DS_4_3_25.json\", \"data/resume.pdf\")\n",
    "df.head()"
   ]
  },
  {
   "cell_type": "code",
   "execution_count": 51,
   "metadata": {},
   "outputs": [
    {
     "name": "stdout",
     "output_type": "stream",
     "text": [
      "10 scraped successfully.\n",
      "Making sure all descriptions scraped...\n",
      "Finished!\n"
     ]
    },
    {
     "data": {
      "text/html": [
       "<div>\n",
       "<style scoped>\n",
       "    .dataframe tbody tr th:only-of-type {\n",
       "        vertical-align: middle;\n",
       "    }\n",
       "\n",
       "    .dataframe tbody tr th {\n",
       "        vertical-align: top;\n",
       "    }\n",
       "\n",
       "    .dataframe thead th {\n",
       "        text-align: right;\n",
       "    }\n",
       "</style>\n",
       "<table border=\"1\" class=\"dataframe\">\n",
       "  <thead>\n",
       "    <tr style=\"text-align: right;\">\n",
       "      <th></th>\n",
       "      <th>title</th>\n",
       "      <th>company</th>\n",
       "      <th>link</th>\n",
       "      <th>posted time</th>\n",
       "      <th>description</th>\n",
       "      <th>location</th>\n",
       "      <th>embedding</th>\n",
       "      <th>similarity</th>\n",
       "      <th>keywords</th>\n",
       "    </tr>\n",
       "  </thead>\n",
       "  <tbody>\n",
       "    <tr>\n",
       "      <th>0</th>\n",
       "      <td>R&amp;D Chemist 3</td>\n",
       "      <td>Astrix</td>\n",
       "      <td>https://www.linkedin.com/jobs/view/r-d-chemist...</td>\n",
       "      <td>2 days ago</td>\n",
       "      <td>Our client, a global leader in the Personal Ca...</td>\n",
       "      <td>Oak Brook, IL</td>\n",
       "      <td>[-9.119135e-05, -0.00628536, -0.006526963, 0.0...</td>\n",
       "      <td>0.964136</td>\n",
       "      <td>{}</td>\n",
       "    </tr>\n",
       "    <tr>\n",
       "      <th>1</th>\n",
       "      <td>Formulation Chemist</td>\n",
       "      <td>Astrix</td>\n",
       "      <td>https://www.linkedin.com/jobs/view/formulation...</td>\n",
       "      <td>1 hour ago</td>\n",
       "      <td>Our R&amp;D/ Formulation Chemist position is a gre...</td>\n",
       "      <td>Oak Brook, IL</td>\n",
       "      <td>[0.003081256, -0.006300571, -0.004313579, 0.01...</td>\n",
       "      <td>0.943157</td>\n",
       "      <td>{}</td>\n",
       "    </tr>\n",
       "    <tr>\n",
       "      <th>2</th>\n",
       "      <td>R &amp; D Chemist 3</td>\n",
       "      <td>Zing Recruiting</td>\n",
       "      <td>https://www.linkedin.com/jobs/view/r-d-chemist...</td>\n",
       "      <td>1 day ago</td>\n",
       "      <td>Zing Recruiting has partnered with a top perso...</td>\n",
       "      <td>Oak Brook, IL</td>\n",
       "      <td>[0.001191473, -0.0074385465, -0.0082926, 0.018...</td>\n",
       "      <td>0.960331</td>\n",
       "      <td>{}</td>\n",
       "    </tr>\n",
       "    <tr>\n",
       "      <th>3</th>\n",
       "      <td>Senior Food Scientist</td>\n",
       "      <td>Planet Forward</td>\n",
       "      <td>https://www.linkedin.com/jobs/view/senior-food...</td>\n",
       "      <td>4 days ago</td>\n",
       "      <td>Title: Senior Food ScientistLocation: Chicago,...</td>\n",
       "      <td>Chicago, IL</td>\n",
       "      <td>[-0.0032431332, -0.0066428776, -0.0049773403, ...</td>\n",
       "      <td>0.962927</td>\n",
       "      <td>{Chicago}</td>\n",
       "    </tr>\n",
       "    <tr>\n",
       "      <th>4</th>\n",
       "      <td>Principal Researcher</td>\n",
       "      <td>The University of Chicago Booth School of Busi...</td>\n",
       "      <td>https://www.linkedin.com/jobs/view/principal-r...</td>\n",
       "      <td>4 days ago</td>\n",
       "      <td>DepartmentBooth Center for Applied Artificial ...</td>\n",
       "      <td>Chicago, IL</td>\n",
       "      <td>[0.0015520444, -0.006789463, -0.0068284837, 0....</td>\n",
       "      <td>0.973816</td>\n",
       "      <td>{Chicago}</td>\n",
       "    </tr>\n",
       "  </tbody>\n",
       "</table>\n",
       "</div>"
      ],
      "text/plain": [
       "                   title                                            company  \\\n",
       "0          R&D Chemist 3                                             Astrix   \n",
       "1    Formulation Chemist                                             Astrix   \n",
       "2        R & D Chemist 3                                    Zing Recruiting   \n",
       "3  Senior Food Scientist                                     Planet Forward   \n",
       "4   Principal Researcher  The University of Chicago Booth School of Busi...   \n",
       "\n",
       "                                                link posted time  \\\n",
       "0  https://www.linkedin.com/jobs/view/r-d-chemist...  2 days ago   \n",
       "1  https://www.linkedin.com/jobs/view/formulation...  1 hour ago   \n",
       "2  https://www.linkedin.com/jobs/view/r-d-chemist...   1 day ago   \n",
       "3  https://www.linkedin.com/jobs/view/senior-food...  4 days ago   \n",
       "4  https://www.linkedin.com/jobs/view/principal-r...  4 days ago   \n",
       "\n",
       "                                         description       location  \\\n",
       "0  Our client, a global leader in the Personal Ca...  Oak Brook, IL   \n",
       "1  Our R&D/ Formulation Chemist position is a gre...  Oak Brook, IL   \n",
       "2  Zing Recruiting has partnered with a top perso...  Oak Brook, IL   \n",
       "3  Title: Senior Food ScientistLocation: Chicago,...    Chicago, IL   \n",
       "4  DepartmentBooth Center for Applied Artificial ...    Chicago, IL   \n",
       "\n",
       "                                           embedding  similarity   keywords  \n",
       "0  [-9.119135e-05, -0.00628536, -0.006526963, 0.0...    0.964136         {}  \n",
       "1  [0.003081256, -0.006300571, -0.004313579, 0.01...    0.943157         {}  \n",
       "2  [0.001191473, -0.0074385465, -0.0082926, 0.018...    0.960331         {}  \n",
       "3  [-0.0032431332, -0.0066428776, -0.0049773403, ...    0.962927  {Chicago}  \n",
       "4  [0.0015520444, -0.006789463, -0.0068284837, 0....    0.973816  {Chicago}  "
      ]
     },
     "execution_count": 51,
     "metadata": {},
     "output_type": "execute_result"
    }
   ],
   "source": [
    "df = job_pipeline(job_title=\"Research Scientist\", \n",
    "                  location=\"Chicago\", \n",
    "                  post_time=5, \n",
    "                  pages=1, \n",
    "                  save_path=\"data/job_queries/job_data_RS_4_3_25\", \n",
    "                  resume_path=\"data/resume.pdf\")\n",
    "df.head()"
   ]
  }
 ],
 "metadata": {
  "kernelspec": {
   "display_name": "env",
   "language": "python",
   "name": "python3"
  },
  "language_info": {
   "codemirror_mode": {
    "name": "ipython",
    "version": 3
   },
   "file_extension": ".py",
   "mimetype": "text/x-python",
   "name": "python",
   "nbconvert_exporter": "python",
   "pygments_lexer": "ipython3",
   "version": "3.12.3"
  }
 },
 "nbformat": 4,
 "nbformat_minor": 2
}
